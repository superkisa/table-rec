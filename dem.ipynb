{
 "cells": [
  {
   "cell_type": "code",
   "execution_count": 1,
   "metadata": {},
   "outputs": [
    {
     "name": "stderr",
     "output_type": "stream",
     "text": [
      "c:\\Users\\COCUTERSASHA\\.micromamba\\envs\\my-table\\Lib\\site-packages\\tqdm\\auto.py:21: TqdmWarning: IProgress not found. Please update jupyter and ipywidgets. See https://ipywidgets.readthedocs.io/en/stable/user_install.html\n",
      "  from .autonotebook import tqdm as notebook_tqdm\n",
      "100%|██████████| 25/25 [00:09<00:00,  2.71it/s]\n",
      "100%|██████████| 31/31 [00:11<00:00,  2.70it/s]\n",
      "100%|██████████| 20/20 [00:10<00:00,  1.94it/s]\n",
      "100%|██████████| 22/22 [00:08<00:00,  2.74it/s]\n"
     ]
    }
   ],
   "source": [
    "import os\n",
    "from try1 import TableRecognition\n",
    "\n",
    "a = TableRecognition()\n",
    "directory = 'png_examples'\n",
    "for filename in os.listdir(directory):\n",
    "    a.detection(os.path.join(directory, filename))"
   ]
  },
  {
   "cell_type": "code",
   "execution_count": 2,
   "metadata": {},
   "outputs": [
    {
     "name": "stderr",
     "output_type": "stream",
     "text": [
      "100%|██████████| 11/11 [00:04<00:00,  2.63it/s]\n"
     ]
    }
   ],
   "source": [
    "a.detection('.\\png_examples\\pic.png')"
   ]
  },
  {
   "cell_type": "code",
   "execution_count": null,
   "metadata": {},
   "outputs": [],
   "source": []
  }
 ],
 "metadata": {
  "kernelspec": {
   "display_name": "Python 3",
   "language": "python",
   "name": "python3"
  },
  "language_info": {
   "codemirror_mode": {
    "name": "ipython",
    "version": 3
   },
   "file_extension": ".py",
   "mimetype": "text/x-python",
   "name": "python",
   "nbconvert_exporter": "python",
   "pygments_lexer": "ipython3",
   "version": "3.11.7"
  }
 },
 "nbformat": 4,
 "nbformat_minor": 2
}
